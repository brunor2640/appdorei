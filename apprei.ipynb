{
 "cells": [
  {
   "cell_type": "code",
   "execution_count": 1,
   "metadata": {},
   "outputs": [],
   "source": [
    "from flask import Flask"
   ]
  },
  {
   "cell_type": "code",
   "execution_count": 2,
   "metadata": {},
   "outputs": [],
   "source": [
    "# app é um objeto\n",
    "# Flask é um Construtor\n",
    "#__NAME é o nome da aplicação\n",
    "app = Flask (__name__)"
   ]
  },
  {
   "cell_type": "code",
   "execution_count": null,
   "metadata": {},
   "outputs": [],
   "source": [
    "\n",
    "cliente = Flask(__name__)\n",
    "\n",
    "cliente.nome()\n",
    "cliente.telefone()\n",
    "cliente.email()\n",
    "cliente.senha()\n"
   ]
  },
  {
   "cell_type": "code",
   "execution_count": null,
   "metadata": {},
   "outputs": [],
   "source": [
    "fuincionario = Flask(__name__)\n",
    "\n",
    "fuincionario.nome()"
   ]
  },
  {
   "cell_type": "code",
   "execution_count": null,
   "metadata": {},
   "outputs": [],
   "source": [
    "agendamento = Flask(__name__)\n",
    "\n",
    "agendamento.data()\n",
    "agendamento.horario()"
   ]
  },
  {
   "cell_type": "code",
   "execution_count": null,
   "metadata": {},
   "outputs": [],
   "source": [
    "servico = Flask(__name__)\n",
    "\n",
    "servico.nome()\n",
    "servico.valor()"
   ]
  },
  {
   "cell_type": "code",
   "execution_count": null,
   "metadata": {},
   "outputs": [],
   "source": [
    "#Criando a roda para um novo cliente\n",
    "@app.route('/novocliente')\n",
    "def criar_cliente():\n",
    "    return(\"Estilo do Rei\")\n",
    "\n",
    "app.run(debug=True)"
   ]
  },
  {
   "cell_type": "code",
   "execution_count": null,
   "metadata": {},
   "outputs": [],
   "source": [
    "#Criando a roda para um novo funcionario\n",
    "@app.route('/novofuncionario')\n",
    "def criar_funcionario():\n",
    "    return(\"Estilo do Rei\")\n",
    "\n",
    "app.run(debug=True)"
   ]
  },
  {
   "cell_type": "code",
   "execution_count": null,
   "metadata": {},
   "outputs": [],
   "source": [
    "#Criando a roda para um novo agendamento\n",
    "@app.route('/novoagendamento')\n",
    "def criar_agendamento():\n",
    "    return(\"Estilo do Rei\")\n",
    "\n",
    "app.run(debug=True)"
   ]
  },
  {
   "cell_type": "code",
   "execution_count": null,
   "metadata": {},
   "outputs": [],
   "source": [
    "#Criando a roda para um novo servico\n",
    "@app.route(\"/novoservico\")\n",
    "def criar_serivo():\n",
    "    return(\"Estilo do Rei\")\n",
    "app.run(debug=True)"
   ]
  },
  {
   "cell_type": "code",
   "execution_count": null,
   "metadata": {},
   "outputs": [],
   "source": [
    "#Criando a roda para a tela de login\n",
    "@app.route(\"/login\")\n",
    "def index():\n",
    "    return(\"Estilo do Rei\")\n",
    "app.run(debug=True)"
   ]
  },
  {
   "cell_type": "code",
   "execution_count": null,
   "metadata": {},
   "outputs": [],
   "source": [
    "@app.route(\"/logout\")\n",
    "def logout():\n",
    "    return(\"Estilo do Rei\")\n",
    "\n",
    "app.run(debug=True)"
   ]
  }
 ],
 "metadata": {
  "kernelspec": {
   "display_name": ".venv",
   "language": "python",
   "name": "python3"
  },
  "language_info": {
   "codemirror_mode": {
    "name": "ipython",
    "version": 3
   },
   "file_extension": ".py",
   "mimetype": "text/x-python",
   "name": "python",
   "nbconvert_exporter": "python",
   "pygments_lexer": "ipython3",
   "version": "3.12.5"
  }
 },
 "nbformat": 4,
 "nbformat_minor": 2
}
